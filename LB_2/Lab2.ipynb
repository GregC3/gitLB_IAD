{
 "cells": [
  {
   "cell_type": "code",
   "execution_count": 1,
   "metadata": {},
   "outputs": [],
   "source": [
    "import pandas as pd\n",
    "import numpy as np\n",
    "from sklearn.model_selection import train_test_split\n",
    "from sklearn import metrics\n",
    "\n",
    "from sklearn.cluster import OPTICS\n",
    "\n",
    "from sklearn.preprocessing import StandardScaler\n",
    "from sklearn.decomposition import PCA\n",
    "\n",
    "import matplotlib.pyplot as plt"
   ]
  },
  {
   "cell_type": "code",
   "execution_count": 6,
   "metadata": {},
   "outputs": [
    {
     "data": {
      "text/html": [
       "<div>\n",
       "<style scoped>\n",
       "    .dataframe tbody tr th:only-of-type {\n",
       "        vertical-align: middle;\n",
       "    }\n",
       "\n",
       "    .dataframe tbody tr th {\n",
       "        vertical-align: top;\n",
       "    }\n",
       "\n",
       "    .dataframe thead th {\n",
       "        text-align: right;\n",
       "    }\n",
       "</style>\n",
       "<table border=\"1\" class=\"dataframe\">\n",
       "  <thead>\n",
       "    <tr style=\"text-align: right;\">\n",
       "      <th></th>\n",
       "      <th>sepal length in cm</th>\n",
       "      <th>sepal width in cm</th>\n",
       "      <th>petal length in cm</th>\n",
       "      <th>petal width in cm</th>\n",
       "      <th>class</th>\n",
       "    </tr>\n",
       "  </thead>\n",
       "  <tbody>\n",
       "    <tr>\n",
       "      <th>0</th>\n",
       "      <td>5.1</td>\n",
       "      <td>3.5</td>\n",
       "      <td>1.4</td>\n",
       "      <td>0.2</td>\n",
       "      <td>Iris-setosa</td>\n",
       "    </tr>\n",
       "    <tr>\n",
       "      <th>1</th>\n",
       "      <td>4.9</td>\n",
       "      <td>3.0</td>\n",
       "      <td>1.4</td>\n",
       "      <td>0.2</td>\n",
       "      <td>Iris-setosa</td>\n",
       "    </tr>\n",
       "    <tr>\n",
       "      <th>2</th>\n",
       "      <td>4.7</td>\n",
       "      <td>3.2</td>\n",
       "      <td>1.3</td>\n",
       "      <td>0.2</td>\n",
       "      <td>Iris-setosa</td>\n",
       "    </tr>\n",
       "    <tr>\n",
       "      <th>3</th>\n",
       "      <td>4.6</td>\n",
       "      <td>3.1</td>\n",
       "      <td>1.5</td>\n",
       "      <td>0.2</td>\n",
       "      <td>Iris-setosa</td>\n",
       "    </tr>\n",
       "    <tr>\n",
       "      <th>4</th>\n",
       "      <td>5.0</td>\n",
       "      <td>3.6</td>\n",
       "      <td>1.4</td>\n",
       "      <td>0.2</td>\n",
       "      <td>Iris-setosa</td>\n",
       "    </tr>\n",
       "    <tr>\n",
       "      <th>...</th>\n",
       "      <td>...</td>\n",
       "      <td>...</td>\n",
       "      <td>...</td>\n",
       "      <td>...</td>\n",
       "      <td>...</td>\n",
       "    </tr>\n",
       "    <tr>\n",
       "      <th>145</th>\n",
       "      <td>6.7</td>\n",
       "      <td>3.0</td>\n",
       "      <td>5.2</td>\n",
       "      <td>2.3</td>\n",
       "      <td>Iris-virginica</td>\n",
       "    </tr>\n",
       "    <tr>\n",
       "      <th>146</th>\n",
       "      <td>6.3</td>\n",
       "      <td>2.5</td>\n",
       "      <td>5.0</td>\n",
       "      <td>1.9</td>\n",
       "      <td>Iris-virginica</td>\n",
       "    </tr>\n",
       "    <tr>\n",
       "      <th>147</th>\n",
       "      <td>6.5</td>\n",
       "      <td>3.0</td>\n",
       "      <td>5.2</td>\n",
       "      <td>2.0</td>\n",
       "      <td>Iris-virginica</td>\n",
       "    </tr>\n",
       "    <tr>\n",
       "      <th>148</th>\n",
       "      <td>6.2</td>\n",
       "      <td>3.4</td>\n",
       "      <td>5.4</td>\n",
       "      <td>2.3</td>\n",
       "      <td>Iris-virginica</td>\n",
       "    </tr>\n",
       "    <tr>\n",
       "      <th>149</th>\n",
       "      <td>5.9</td>\n",
       "      <td>3.0</td>\n",
       "      <td>5.1</td>\n",
       "      <td>1.8</td>\n",
       "      <td>Iris-virginica</td>\n",
       "    </tr>\n",
       "  </tbody>\n",
       "</table>\n",
       "<p>150 rows × 5 columns</p>\n",
       "</div>"
      ],
      "text/plain": [
       "     sepal length in cm  sepal width in cm  petal length in cm  \\\n",
       "0                   5.1                3.5                 1.4   \n",
       "1                   4.9                3.0                 1.4   \n",
       "2                   4.7                3.2                 1.3   \n",
       "3                   4.6                3.1                 1.5   \n",
       "4                   5.0                3.6                 1.4   \n",
       "..                  ...                ...                 ...   \n",
       "145                 6.7                3.0                 5.2   \n",
       "146                 6.3                2.5                 5.0   \n",
       "147                 6.5                3.0                 5.2   \n",
       "148                 6.2                3.4                 5.4   \n",
       "149                 5.9                3.0                 5.1   \n",
       "\n",
       "     petal width in cm           class  \n",
       "0                  0.2     Iris-setosa  \n",
       "1                  0.2     Iris-setosa  \n",
       "2                  0.2     Iris-setosa  \n",
       "3                  0.2     Iris-setosa  \n",
       "4                  0.2     Iris-setosa  \n",
       "..                 ...             ...  \n",
       "145                2.3  Iris-virginica  \n",
       "146                1.9  Iris-virginica  \n",
       "147                2.0  Iris-virginica  \n",
       "148                2.3  Iris-virginica  \n",
       "149                1.8  Iris-virginica  \n",
       "\n",
       "[150 rows x 5 columns]"
      ]
     },
     "execution_count": 6,
     "metadata": {},
     "output_type": "execute_result"
    }
   ],
   "source": [
    "#df= pd.read_csv('seeds_dataset.csv',sep='\\s+',  header=None)\n",
    "df = pd.read_csv('iris.csv')\n",
    "df"
   ]
  },
  {
   "cell_type": "code",
   "execution_count": 4,
   "metadata": {},
   "outputs": [
    {
     "data": {
      "text/plain": [
       "0         Iris-setosa\n",
       "1         Iris-setosa\n",
       "2         Iris-setosa\n",
       "3         Iris-setosa\n",
       "4         Iris-setosa\n",
       "            ...      \n",
       "145    Iris-virginica\n",
       "146    Iris-virginica\n",
       "147    Iris-virginica\n",
       "148    Iris-virginica\n",
       "149    Iris-virginica\n",
       "Name: class, Length: 150, dtype: object"
      ]
     },
     "execution_count": 4,
     "metadata": {},
     "output_type": "execute_result"
    }
   ],
   "source": [
    "data = df.iloc[:,:-1]\n",
    "y=df.iloc[:,-1]\n",
    "#стандартизировать функции набора данных в единичном масштабе (среднее значение = 0 и дисперсия = 1)\n",
    "data = StandardScaler().fit_transform(data)\n",
    "y"
   ]
  },
  {
   "cell_type": "code",
   "execution_count": 100,
   "metadata": {},
   "outputs": [],
   "source": [
    "#clust = OPTICS(min_samples=10, xi=.05, min_cluster_size=.05)\n",
    "#clust = OPTICS()\n",
    "#clust = OPTICS (min_samples = 50, xi = .005, min_cluster_size = .05, cluster_method = 'xi', algorithm = 'ball_tree')\n",
    "clust = OPTICS(eps=0.99, min_samples=8, cluster_method = 'dbscan',algorithm = 'kd_tree')\n",
    "#clust = OPTICS(min_samples = 10, cluster_method = 'dbscan', eps = 0.8, algorithm = 'ball_tree')"
   ]
  },
  {
   "cell_type": "code",
   "execution_count": 101,
   "metadata": {},
   "outputs": [
    {
     "data": {
      "text/plain": [
       "OPTICS(algorithm='kd_tree', cluster_method='dbscan', eps=0.99, min_samples=8)"
      ]
     },
     "execution_count": 101,
     "metadata": {},
     "output_type": "execute_result"
    }
   ],
   "source": [
    "clust.fit(data)"
   ]
  },
  {
   "cell_type": "code",
   "execution_count": 102,
   "metadata": {},
   "outputs": [
    {
     "name": "stdout",
     "output_type": "stream",
     "text": [
      "Расчетное количество кластеров: 2\n",
      "Расчетное количество точек шума: 3\n"
     ]
    }
   ],
   "source": [
    "labels = clust.labels_\n",
    "n_clusters_ = len(set(labels)) - (1 if -1 in labels else 0)\n",
    "n_noise_ = list(labels).count(-1)\n",
    "print(\"Расчетное количество кластеров: %d\" % n_clusters_)\n",
    "print(\"Расчетное количество точек шума: %d\" % n_noise_)\n",
    "#print(labels)"
   ]
  },
  {
   "cell_type": "code",
   "execution_count": 103,
   "metadata": {},
   "outputs": [
    {
     "name": "stdout",
     "output_type": "stream",
     "text": [
      "ARI 0.554\n",
      "AMI 0.690\n",
      "Гомогенность 0.576\n",
      "Полнота 0.877\n",
      "V-мера 0.696\n",
      "Силуэт 0.537\n"
     ]
    }
   ],
   "source": [
    "y_opt = clust.fit_predict(data)\n",
    "# Данная мера не зависит от самих значений меток, а только от разбиения выборки на кластеры\n",
    "print(\"ARI %.3f\" % metrics.adjusted_rand_score(y, labels)) \n",
    "#не зависит от значений и перестановок меток. Определяется с использованием функции энтропии, интерпретируя разбиения выборки, как дискретные распределения\n",
    "print(\"AMI %.3f\" % metrics.adjusted_mutual_info_score(y, labels))\n",
    "\n",
    "print(\"Гомогенность %.3f\" % metrics.homogeneity_score(y, labels))\n",
    "print(\"Полнота %.3f\" % metrics.completeness_score(y, labels))\n",
    "print(\"V-мера %.3f\" % metrics.v_measure_score(y, labels))\n",
    "\n",
    "#данный коэффициент не предполагает знания истинных меток объектов, и позволяет оценить качество кластеризации, \n",
    "#используя только саму (неразмеченную) выборку и результат кластеризации\n",
    "print(\"Силуэт %.3f\" %  metrics.silhouette_score(data, labels))\n",
    "#https://habr.com/ru/company/ods/blog/325654/"
   ]
  },
  {
   "cell_type": "code",
   "execution_count": 104,
   "metadata": {},
   "outputs": [],
   "source": [
    "# Уменьшаем размерность при помощи метода главных компонент\n",
    "pca = PCA(n_components=n_clusters_).fit(data)\n",
    "pca_2d = pca.transform(data)"
   ]
  },
  {
   "cell_type": "code",
   "execution_count": 105,
   "metadata": {},
   "outputs": [
    {
     "data": {
      "image/png": "[encoded data removed]",
      "text/plain": [
       "<Figure size 864x864 with 1 Axes>"
      ]
     },
     "metadata": {
      "needs_background": "light"
     },
     "output_type": "display_data"
    }
   ],
   "source": [
    "# визуализация\n",
    "plt.figure(figsize=(12, 12))\n",
    "for i in range(0, pca_2d.shape[0]):\n",
    "    if labels[i] == 0:\n",
    "        c1 = plt.scatter(pca_2d[i, 0], pca_2d[i, 1], c='r', marker='+', label = ' Кластер 1 ')\n",
    "    elif labels[i] == 1:\n",
    "        c2 = plt.scatter(pca_2d[i, 0], pca_2d[i, 1], c='g', marker='o', label = ' Кластер 2 ')\n",
    "    elif labels[i] == 2:\n",
    "        c3 = plt.scatter(pca_2d[i, 0], pca_2d[i, 1], c='y', marker='^', label = ' Кластер 3 ')   \n",
    "    elif labels[i] == -1:\n",
    "        c4 = plt.scatter(pca_2d[i, 0], pca_2d[i, 1], c='c', marker='*', label = ' Шум ')\n",
    "    elif labels[i] == 3:\n",
    "        c5 = plt.scatter(pca_2d[i, 0], pca_2d[i, 1], c='b', marker='p', label = ' Кластер 4 ')\n",
    "    elif labels[i] == 4:\n",
    "        c6 = plt.scatter(pca_2d[i, 0], pca_2d[i, 1], c='m', marker='v', label = ' Кластер 5 ')  \n",
    "    elif labels[i] == 5:\n",
    "        c7 = plt.scatter(pca_2d[i, 0], pca_2d[i, 1], c='k', marker='>', label = ' Кластер 6 ') \n",
    "if n_clusters_ == 3:\n",
    "    plt.legend([c1, c2, c3, c4], ['Кластер 1', 'Кластер 2', 'Кластер 3', 'Шум'])\n",
    "elif n_clusters_ == 2:\n",
    "    plt.legend([c1, c2, c4], ['Кластер 1', 'Кластер 2', 'Шум'])\n",
    "elif n_clusters_ == 4:\n",
    "    plt.legend([c1, c2, c3, c5, c4], ['Кластер 1', 'Кластер 2', 'Кластер 3','Кластер 4', 'Шум'])\n",
    "elif n_clusters_ == 1:\n",
    "    plt.legend([c1, c4], ['Кластер 1', 'Шум'])\n",
    "elif n_clusters_ == 5:\n",
    "    plt.legend([c1, c2, c3, c5, c6, c4], ['Кластер 1', 'Кластер 2', 'Кластер 3','Кластер 4','Кластер 5', 'Шум'])\n",
    "elif n_clusters_ == 6:\n",
    "    plt.legend([c1, c2, c3, c5, c6, c7, c4], ['Кластер 1', 'Кластер 2', 'Кластер 3','Кластер 4','Кластер 5', 'Кластер 6', 'Шум'])\n",
    "plt.title('Кластеризация')\n",
    "plt.show()"
   ]
  },
  {
   "cell_type": "code",
   "execution_count": 106,
   "metadata": {},
   "outputs": [
    {
     "data": {
      "image/png": "[encoded data removed]",
      "text/plain": [
       "<Figure size 864x864 with 1 Axes>"
      ]
     },
     "metadata": {
      "needs_background": "light"
     },
     "output_type": "display_data"
    }
   ],
   "source": [
    "from numpy import unique\n",
    "from numpy import where\n",
    "clusters = unique(y_opt)\n",
    "plt.figure(figsize=(12, 12))\n",
    "for cluster in clusters:\n",
    "\t# get row indexes for samples with this cluster\n",
    "\trow_ix = where(y_opt == cluster)\n",
    "\t# create scatter of these samples\n",
    "\tplt.scatter(pca_2d[row_ix, 0], pca_2d[row_ix, 1])\n",
    "# show the plot\n",
    "plt.show()"
   ]
  },
  {
   "cell_type": "code",
   "execution_count": null,
   "metadata": {},
   "outputs": [],
   "source": []
  }
 ],
 "metadata": {
  "kernelspec": {
   "display_name": "Python 3",
   "language": "python",
   "name": "python3"
  },
  "language_info": {
   "codemirror_mode": {
    "name": "ipython",
    "version": 3
   },
   "file_extension": ".py",
   "mimetype": "text/x-python",
   "name": "python",
   "nbconvert_exporter": "python",
   "pygments_lexer": "ipython3",
   "version": "3.8.5"
  }
 },
 "nbformat": 4,
 "nbformat_minor": 4
}
