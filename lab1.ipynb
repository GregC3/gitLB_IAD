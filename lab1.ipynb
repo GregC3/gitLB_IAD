{
 "cells": [
  {
   "cell_type": "markdown",
   "metadata": {},
   "source": [
    "#Импорт Модулей"
   ]
  },
  {
   "cell_type": "code",
   "execution_count": 15,
   "metadata": {},
   "outputs": [],
   "source": [
    "import numpy as np\n",
    "import pandas as pd\n",
    "import matplotlib.pyplot as plt\n",
    "from sklearn import tree #для визуализации \n",
    "from sklearn.tree import DecisionTreeClassifier #для построения\n",
    "from sklearn.model_selection import train_test_split #для построения\n",
    "import sklearn.metrics as metrics #для оценки точности"
   ]
  },
  {
   "cell_type": "markdown",
   "metadata": {},
   "source": [
    "# Считываем данные с файла"
   ]
  },
  {
   "cell_type": "code",
   "execution_count": 16,
   "metadata": {},
   "outputs": [
    {
     "data": {
      "text/html": [
       "<div>\n",
       "<style scoped>\n",
       "    .dataframe tbody tr th:only-of-type {\n",
       "        vertical-align: middle;\n",
       "    }\n",
       "\n",
       "    .dataframe tbody tr th {\n",
       "        vertical-align: top;\n",
       "    }\n",
       "\n",
       "    .dataframe thead th {\n",
       "        text-align: right;\n",
       "    }\n",
       "</style>\n",
       "<table border=\"1\" class=\"dataframe\">\n",
       "  <thead>\n",
       "    <tr style=\"text-align: right;\">\n",
       "      <th></th>\n",
       "      <th>area A</th>\n",
       "      <th>perimeter P</th>\n",
       "      <th>compactness C</th>\n",
       "      <th>length</th>\n",
       "      <th>width</th>\n",
       "      <th>asymmetry koeff</th>\n",
       "      <th>length of kernel groove</th>\n",
       "      <th>groove</th>\n",
       "    </tr>\n",
       "  </thead>\n",
       "  <tbody>\n",
       "    <tr>\n",
       "      <th>0</th>\n",
       "      <td>15.26</td>\n",
       "      <td>14.84</td>\n",
       "      <td>0.8710</td>\n",
       "      <td>5.763</td>\n",
       "      <td>3.312</td>\n",
       "      <td>2.221</td>\n",
       "      <td>5.220</td>\n",
       "      <td>1</td>\n",
       "    </tr>\n",
       "    <tr>\n",
       "      <th>1</th>\n",
       "      <td>14.88</td>\n",
       "      <td>14.57</td>\n",
       "      <td>0.8811</td>\n",
       "      <td>5.554</td>\n",
       "      <td>3.333</td>\n",
       "      <td>1.018</td>\n",
       "      <td>4.956</td>\n",
       "      <td>1</td>\n",
       "    </tr>\n",
       "    <tr>\n",
       "      <th>2</th>\n",
       "      <td>14.29</td>\n",
       "      <td>14.09</td>\n",
       "      <td>0.9050</td>\n",
       "      <td>5.291</td>\n",
       "      <td>3.337</td>\n",
       "      <td>2.699</td>\n",
       "      <td>4.825</td>\n",
       "      <td>1</td>\n",
       "    </tr>\n",
       "    <tr>\n",
       "      <th>3</th>\n",
       "      <td>13.84</td>\n",
       "      <td>13.94</td>\n",
       "      <td>0.8955</td>\n",
       "      <td>5.324</td>\n",
       "      <td>3.379</td>\n",
       "      <td>2.259</td>\n",
       "      <td>4.805</td>\n",
       "      <td>1</td>\n",
       "    </tr>\n",
       "    <tr>\n",
       "      <th>4</th>\n",
       "      <td>16.14</td>\n",
       "      <td>14.99</td>\n",
       "      <td>0.9034</td>\n",
       "      <td>5.658</td>\n",
       "      <td>3.562</td>\n",
       "      <td>1.355</td>\n",
       "      <td>5.175</td>\n",
       "      <td>1</td>\n",
       "    </tr>\n",
       "    <tr>\n",
       "      <th>...</th>\n",
       "      <td>...</td>\n",
       "      <td>...</td>\n",
       "      <td>...</td>\n",
       "      <td>...</td>\n",
       "      <td>...</td>\n",
       "      <td>...</td>\n",
       "      <td>...</td>\n",
       "      <td>...</td>\n",
       "    </tr>\n",
       "    <tr>\n",
       "      <th>205</th>\n",
       "      <td>12.19</td>\n",
       "      <td>13.20</td>\n",
       "      <td>0.8783</td>\n",
       "      <td>5.137</td>\n",
       "      <td>2.981</td>\n",
       "      <td>3.631</td>\n",
       "      <td>4.870</td>\n",
       "      <td>3</td>\n",
       "    </tr>\n",
       "    <tr>\n",
       "      <th>206</th>\n",
       "      <td>11.23</td>\n",
       "      <td>12.88</td>\n",
       "      <td>0.8511</td>\n",
       "      <td>5.140</td>\n",
       "      <td>2.795</td>\n",
       "      <td>4.325</td>\n",
       "      <td>5.003</td>\n",
       "      <td>3</td>\n",
       "    </tr>\n",
       "    <tr>\n",
       "      <th>207</th>\n",
       "      <td>13.20</td>\n",
       "      <td>13.66</td>\n",
       "      <td>0.8883</td>\n",
       "      <td>5.236</td>\n",
       "      <td>3.232</td>\n",
       "      <td>8.315</td>\n",
       "      <td>5.056</td>\n",
       "      <td>3</td>\n",
       "    </tr>\n",
       "    <tr>\n",
       "      <th>208</th>\n",
       "      <td>11.84</td>\n",
       "      <td>13.21</td>\n",
       "      <td>0.8521</td>\n",
       "      <td>5.175</td>\n",
       "      <td>2.836</td>\n",
       "      <td>3.598</td>\n",
       "      <td>5.044</td>\n",
       "      <td>3</td>\n",
       "    </tr>\n",
       "    <tr>\n",
       "      <th>209</th>\n",
       "      <td>12.30</td>\n",
       "      <td>13.34</td>\n",
       "      <td>0.8684</td>\n",
       "      <td>5.243</td>\n",
       "      <td>2.974</td>\n",
       "      <td>5.637</td>\n",
       "      <td>5.063</td>\n",
       "      <td>3</td>\n",
       "    </tr>\n",
       "  </tbody>\n",
       "</table>\n",
       "<p>210 rows × 8 columns</p>\n",
       "</div>"
      ],
      "text/plain": [
       "     area A  perimeter P  compactness C  length   width  asymmetry koeff  \\\n",
       "0     15.26        14.84         0.8710    5.763  3.312            2.221   \n",
       "1     14.88        14.57         0.8811    5.554  3.333            1.018   \n",
       "2     14.29        14.09         0.9050    5.291  3.337            2.699   \n",
       "3     13.84        13.94         0.8955    5.324  3.379            2.259   \n",
       "4     16.14        14.99         0.9034    5.658  3.562            1.355   \n",
       "..      ...          ...            ...      ...    ...              ...   \n",
       "205   12.19        13.20         0.8783    5.137  2.981            3.631   \n",
       "206   11.23        12.88         0.8511    5.140  2.795            4.325   \n",
       "207   13.20        13.66         0.8883    5.236  3.232            8.315   \n",
       "208   11.84        13.21         0.8521    5.175  2.836            3.598   \n",
       "209   12.30        13.34         0.8684    5.243  2.974            5.637   \n",
       "\n",
       "     length of kernel groove  groove  \n",
       "0                      5.220       1  \n",
       "1                      4.956       1  \n",
       "2                      4.825       1  \n",
       "3                      4.805       1  \n",
       "4                      5.175       1  \n",
       "..                       ...     ...  \n",
       "205                    4.870       3  \n",
       "206                    5.003       3  \n",
       "207                    5.056       3  \n",
       "208                    5.044       3  \n",
       "209                    5.063       3  \n",
       "\n",
       "[210 rows x 8 columns]"
      ]
     },
     "execution_count": 16,
     "metadata": {},
     "output_type": "execute_result"
    }
   ],
   "source": [
    "seed_ds = pd.read_csv('seeds_dataset.csv', sep='\\s+',  \n",
    "        names=['area A', 'perimeter P', 'compactness C', 'length ', 'width', 'asymmetry koeff', 'length of kernel groove', 'groove'], engine='python')\n",
    "\n",
    "seed_ds"
   ]
  },
  {
   "cell_type": "markdown",
   "metadata": {},
   "source": [
    "Проверка на пустые значения в колонках"
   ]
  },
  {
   "cell_type": "code",
   "execution_count": 17,
   "metadata": {},
   "outputs": [
    {
     "data": {
      "text/plain": [
       "area A                     0\n",
       "perimeter P                0\n",
       "compactness C              0\n",
       "length                     0\n",
       "width                      0\n",
       "asymmetry koeff            0\n",
       "length of kernel groove    0\n",
       "groove                     0\n",
       "dtype: int64"
      ]
     },
     "execution_count": 17,
     "metadata": {},
     "output_type": "execute_result"
    }
   ],
   "source": [
    "seed_ds.isnull().sum()"
   ]
  },
  {
   "cell_type": "markdown",
   "metadata": {},
   "source": [
    "создаем описательную статистику по столбцам\n",
    "число записей, среднее значение, мин, макс..."
   ]
  },
  {
   "cell_type": "code",
   "execution_count": 18,
   "metadata": {},
   "outputs": [
    {
     "data": {
      "text/html": [
       "<div>\n",
       "<style scoped>\n",
       "    .dataframe tbody tr th:only-of-type {\n",
       "        vertical-align: middle;\n",
       "    }\n",
       "\n",
       "    .dataframe tbody tr th {\n",
       "        vertical-align: top;\n",
       "    }\n",
       "\n",
       "    .dataframe thead th {\n",
       "        text-align: right;\n",
       "    }\n",
       "</style>\n",
       "<table border=\"1\" class=\"dataframe\">\n",
       "  <thead>\n",
       "    <tr style=\"text-align: right;\">\n",
       "      <th></th>\n",
       "      <th>area A</th>\n",
       "      <th>perimeter P</th>\n",
       "      <th>compactness C</th>\n",
       "      <th>length</th>\n",
       "      <th>width</th>\n",
       "      <th>asymmetry koeff</th>\n",
       "      <th>length of kernel groove</th>\n",
       "      <th>groove</th>\n",
       "    </tr>\n",
       "  </thead>\n",
       "  <tbody>\n",
       "    <tr>\n",
       "      <th>count</th>\n",
       "      <td>210.000000</td>\n",
       "      <td>210.000000</td>\n",
       "      <td>210.000000</td>\n",
       "      <td>210.000000</td>\n",
       "      <td>210.000000</td>\n",
       "      <td>210.000000</td>\n",
       "      <td>210.000000</td>\n",
       "      <td>210.000000</td>\n",
       "    </tr>\n",
       "    <tr>\n",
       "      <th>mean</th>\n",
       "      <td>14.847524</td>\n",
       "      <td>14.559286</td>\n",
       "      <td>0.870999</td>\n",
       "      <td>5.628533</td>\n",
       "      <td>3.258605</td>\n",
       "      <td>3.700201</td>\n",
       "      <td>5.408071</td>\n",
       "      <td>2.000000</td>\n",
       "    </tr>\n",
       "    <tr>\n",
       "      <th>std</th>\n",
       "      <td>2.909699</td>\n",
       "      <td>1.305959</td>\n",
       "      <td>0.023629</td>\n",
       "      <td>0.443063</td>\n",
       "      <td>0.377714</td>\n",
       "      <td>1.503557</td>\n",
       "      <td>0.491480</td>\n",
       "      <td>0.818448</td>\n",
       "    </tr>\n",
       "    <tr>\n",
       "      <th>min</th>\n",
       "      <td>10.590000</td>\n",
       "      <td>12.410000</td>\n",
       "      <td>0.808100</td>\n",
       "      <td>4.899000</td>\n",
       "      <td>2.630000</td>\n",
       "      <td>0.765100</td>\n",
       "      <td>4.519000</td>\n",
       "      <td>1.000000</td>\n",
       "    </tr>\n",
       "    <tr>\n",
       "      <th>25%</th>\n",
       "      <td>12.270000</td>\n",
       "      <td>13.450000</td>\n",
       "      <td>0.856900</td>\n",
       "      <td>5.262250</td>\n",
       "      <td>2.944000</td>\n",
       "      <td>2.561500</td>\n",
       "      <td>5.045000</td>\n",
       "      <td>1.000000</td>\n",
       "    </tr>\n",
       "    <tr>\n",
       "      <th>50%</th>\n",
       "      <td>14.355000</td>\n",
       "      <td>14.320000</td>\n",
       "      <td>0.873450</td>\n",
       "      <td>5.523500</td>\n",
       "      <td>3.237000</td>\n",
       "      <td>3.599000</td>\n",
       "      <td>5.223000</td>\n",
       "      <td>2.000000</td>\n",
       "    </tr>\n",
       "    <tr>\n",
       "      <th>75%</th>\n",
       "      <td>17.305000</td>\n",
       "      <td>15.715000</td>\n",
       "      <td>0.887775</td>\n",
       "      <td>5.979750</td>\n",
       "      <td>3.561750</td>\n",
       "      <td>4.768750</td>\n",
       "      <td>5.877000</td>\n",
       "      <td>3.000000</td>\n",
       "    </tr>\n",
       "    <tr>\n",
       "      <th>max</th>\n",
       "      <td>21.180000</td>\n",
       "      <td>17.250000</td>\n",
       "      <td>0.918300</td>\n",
       "      <td>6.675000</td>\n",
       "      <td>4.033000</td>\n",
       "      <td>8.456000</td>\n",
       "      <td>6.550000</td>\n",
       "      <td>3.000000</td>\n",
       "    </tr>\n",
       "  </tbody>\n",
       "</table>\n",
       "</div>"
      ],
      "text/plain": [
       "           area A  perimeter P  compactness C     length        width  \\\n",
       "count  210.000000   210.000000     210.000000  210.000000  210.000000   \n",
       "mean    14.847524    14.559286       0.870999    5.628533    3.258605   \n",
       "std      2.909699     1.305959       0.023629    0.443063    0.377714   \n",
       "min     10.590000    12.410000       0.808100    4.899000    2.630000   \n",
       "25%     12.270000    13.450000       0.856900    5.262250    2.944000   \n",
       "50%     14.355000    14.320000       0.873450    5.523500    3.237000   \n",
       "75%     17.305000    15.715000       0.887775    5.979750    3.561750   \n",
       "max     21.180000    17.250000       0.918300    6.675000    4.033000   \n",
       "\n",
       "       asymmetry koeff  length of kernel groove      groove  \n",
       "count       210.000000               210.000000  210.000000  \n",
       "mean          3.700201                 5.408071    2.000000  \n",
       "std           1.503557                 0.491480    0.818448  \n",
       "min           0.765100                 4.519000    1.000000  \n",
       "25%           2.561500                 5.045000    1.000000  \n",
       "50%           3.599000                 5.223000    2.000000  \n",
       "75%           4.768750                 5.877000    3.000000  \n",
       "max           8.456000                 6.550000    3.000000  "
      ]
     },
     "execution_count": 18,
     "metadata": {},
     "output_type": "execute_result"
    }
   ],
   "source": [
    "seed_ds.describe()"
   ]
  },
  {
   "cell_type": "markdown",
   "metadata": {},
   "source": [
    "# Построение дерева"
   ]
  },
  {
   "cell_type": "code",
   "execution_count": 19,
   "metadata": {},
   "outputs": [],
   "source": [
    "# делим на данные и ответы\n",
    "X = seed_ds.iloc[:,:-1]\n",
    "Y = seed_ds.iloc[:,-1]"
   ]
  },
  {
   "cell_type": "code",
   "execution_count": 20,
   "metadata": {},
   "outputs": [
    {
     "data": {
      "text/html": [
       "<div>\n",
       "<style scoped>\n",
       "    .dataframe tbody tr th:only-of-type {\n",
       "        vertical-align: middle;\n",
       "    }\n",
       "\n",
       "    .dataframe tbody tr th {\n",
       "        vertical-align: top;\n",
       "    }\n",
       "\n",
       "    .dataframe thead th {\n",
       "        text-align: right;\n",
       "    }\n",
       "</style>\n",
       "<table border=\"1\" class=\"dataframe\">\n",
       "  <thead>\n",
       "    <tr style=\"text-align: right;\">\n",
       "      <th></th>\n",
       "      <th>area A</th>\n",
       "      <th>perimeter P</th>\n",
       "      <th>compactness C</th>\n",
       "      <th>length</th>\n",
       "      <th>width</th>\n",
       "      <th>asymmetry koeff</th>\n",
       "      <th>length of kernel groove</th>\n",
       "    </tr>\n",
       "  </thead>\n",
       "  <tbody>\n",
       "    <tr>\n",
       "      <th>0</th>\n",
       "      <td>15.26</td>\n",
       "      <td>14.84</td>\n",
       "      <td>0.8710</td>\n",
       "      <td>5.763</td>\n",
       "      <td>3.312</td>\n",
       "      <td>2.221</td>\n",
       "      <td>5.220</td>\n",
       "    </tr>\n",
       "    <tr>\n",
       "      <th>1</th>\n",
       "      <td>14.88</td>\n",
       "      <td>14.57</td>\n",
       "      <td>0.8811</td>\n",
       "      <td>5.554</td>\n",
       "      <td>3.333</td>\n",
       "      <td>1.018</td>\n",
       "      <td>4.956</td>\n",
       "    </tr>\n",
       "    <tr>\n",
       "      <th>2</th>\n",
       "      <td>14.29</td>\n",
       "      <td>14.09</td>\n",
       "      <td>0.9050</td>\n",
       "      <td>5.291</td>\n",
       "      <td>3.337</td>\n",
       "      <td>2.699</td>\n",
       "      <td>4.825</td>\n",
       "    </tr>\n",
       "    <tr>\n",
       "      <th>3</th>\n",
       "      <td>13.84</td>\n",
       "      <td>13.94</td>\n",
       "      <td>0.8955</td>\n",
       "      <td>5.324</td>\n",
       "      <td>3.379</td>\n",
       "      <td>2.259</td>\n",
       "      <td>4.805</td>\n",
       "    </tr>\n",
       "    <tr>\n",
       "      <th>4</th>\n",
       "      <td>16.14</td>\n",
       "      <td>14.99</td>\n",
       "      <td>0.9034</td>\n",
       "      <td>5.658</td>\n",
       "      <td>3.562</td>\n",
       "      <td>1.355</td>\n",
       "      <td>5.175</td>\n",
       "    </tr>\n",
       "  </tbody>\n",
       "</table>\n",
       "</div>"
      ],
      "text/plain": [
       "   area A  perimeter P  compactness C  length   width  asymmetry koeff  \\\n",
       "0   15.26        14.84         0.8710    5.763  3.312            2.221   \n",
       "1   14.88        14.57         0.8811    5.554  3.333            1.018   \n",
       "2   14.29        14.09         0.9050    5.291  3.337            2.699   \n",
       "3   13.84        13.94         0.8955    5.324  3.379            2.259   \n",
       "4   16.14        14.99         0.9034    5.658  3.562            1.355   \n",
       "\n",
       "   length of kernel groove  \n",
       "0                    5.220  \n",
       "1                    4.956  \n",
       "2                    4.825  \n",
       "3                    4.805  \n",
       "4                    5.175  "
      ]
     },
     "execution_count": 20,
     "metadata": {},
     "output_type": "execute_result"
    }
   ],
   "source": [
    "X.head()"
   ]
  },
  {
   "cell_type": "code",
   "execution_count": 21,
   "metadata": {},
   "outputs": [
    {
     "data": {
      "text/plain": [
       "0    1\n",
       "1    1\n",
       "2    1\n",
       "3    1\n",
       "4    1\n",
       "Name: groove, dtype: int64"
      ]
     },
     "execution_count": 21,
     "metadata": {},
     "output_type": "execute_result"
    }
   ],
   "source": [
    "Y.head()"
   ]
  },
  {
   "cell_type": "code",
   "execution_count": 29,
   "metadata": {},
   "outputs": [
    {
     "name": "stdout",
     "output_type": "stream",
     "text": [
      "Точность: 0.9761904761904762\n",
      "Точность: 0.9714285714285714\n"
     ]
    }
   ],
   "source": [
    "# 1\n",
    "#получаем обучающую и тестовую (test_size 20%) выборку \n",
    "X_train, X_test, Y_train, Y_test = train_test_split(X, Y, test_size=0.2,random_state = 1)\n",
    "#создаем классификатор\n",
    "# параметр min_samples_leaf указывает, при каком минимальном количестве\n",
    "# элементов в узле он будет дальше разделяться\n",
    "dTree = DecisionTreeClassifier(criterion='entropy', max_depth=None, min_samples_leaf=3)\n",
    "#обучаем\n",
    "dTree.fit(X_train, Y_train)\n",
    "#предсказываем\n",
    "Y_pred=dTree.predict(X_test)\n",
    "Y1_pred = dTree.predict(X)\n",
    "print(\"Точность:\",metrics.accuracy_score(Y_test, Y_pred))\n",
    "print(\"Точность:\",metrics.accuracy_score(Y, Y1_pred))"
   ]
  },
  {
   "cell_type": "code",
   "execution_count": 34,
   "metadata": {},
   "outputs": [
    {
     "name": "stdout",
     "output_type": "stream",
     "text": [
      "Точность: 0.9285714285714286\n",
      "Точность: 0.9666666666666667\n"
     ]
    }
   ],
   "source": [
    "# 2\n",
    "#получаем обучающую и тестовую (test_size 40%) выборку \n",
    "X_train, X_test, Y_train, Y_test = train_test_split(X, Y, test_size=0.4)\n",
    "#создаем классификатор\n",
    "# параметр min_samples_leaf указывает, при каком минимальном количестве\n",
    "# элементов в узле он будет дальше разделяться\n",
    "dTree = DecisionTreeClassifier(criterion='entropy', max_depth=None, min_samples_leaf=3, random_state = 6)\n",
    "#обучаем\n",
    "dTree.fit(X_train, Y_train)\n",
    "#предсказываем\n",
    "Y_pred=dTree.predict(X_test)\n",
    "Y1_pred = dTree.predict(X)\n",
    "print(\"Точность:\",metrics.accuracy_score(Y_test, Y_pred))\n",
    "print(\"Точность:\",metrics.accuracy_score(Y, Y1_pred))"
   ]
  },
  {
   "cell_type": "code",
   "execution_count": 35,
   "metadata": {},
   "outputs": [
    {
     "name": "stdout",
     "output_type": "stream",
     "text": [
      "Точность: 0.9523809523809523\n",
      "Точность: 0.9857142857142858\n"
     ]
    }
   ],
   "source": [
    "# 3\n",
    "#получаем обучающую и тестовую (test_size 10%) выборку \n",
    "X_train, X_test, Y_train, Y_test = train_test_split(X, Y, test_size=0.1, random_state = 1)\n",
    "#создаем классификатор\n",
    "dTree = DecisionTreeClassifier(criterion='entropy',splitter = 'random', max_depth=7)\n",
    "#обучаем\n",
    "dTree.fit(X_train, Y_train)\n",
    "#предсказываем\n",
    "Y_pred=dTree.predict(X_test)\n",
    "Y1_pred = dTree.predict(X)\n",
    "print(\"Точность:\",metrics.accuracy_score(Y_test, Y_pred))\n",
    "print(\"Точность:\",metrics.accuracy_score(Y, Y1_pred))"
   ]
  },
  {
   "cell_type": "code",
   "execution_count": 39,
   "metadata": {},
   "outputs": [
    {
     "name": "stdout",
     "output_type": "stream",
     "text": [
      "Точность: 0.9811320754716981\n",
      "Точность: 0.9952380952380953\n"
     ]
    }
   ],
   "source": [
    "# 4\n",
    "#получаем обучающую и тестовую (test_size 25%) выборку \n",
    "X_train, X_test, Y_train, Y_test = train_test_split(X, Y, test_size=0.25, random_state = 1)\n",
    "#создаем классификатор\n",
    "dTree = DecisionTreeClassifier()\n",
    "#обучаем\n",
    "dTree.fit(X_train, Y_train)\n",
    "#предсказываем\n",
    "Y_pred=dTree.predict(X_test)\n",
    "Y1_pred = dTree.predict(X)\n",
    "print(\"Точность:\",metrics.accuracy_score(Y_test, Y_pred))\n",
    "print(\"Точность:\",metrics.accuracy_score(Y, Y1_pred))"
   ]
  },
  {
   "cell_type": "code",
   "execution_count": 40,
   "metadata": {},
   "outputs": [
    {
     "data": {
      "text/plain": [
       "[Text(221.55882352941177, 203.85, 'X[6] <= 5.576\\ngini = 0.666\\nsamples = 157\\nvalue = [50, 55, 52]'),\n",
       " Text(147.7058823529412, 176.67000000000002, 'X[0] <= 13.435\\ngini = 0.518\\nsamples = 103\\nvalue = [49, 2, 52]'),\n",
       " Text(98.47058823529412, 149.49, 'X[6] <= 4.789\\ngini = 0.288\\nsamples = 63\\nvalue = [11, 0, 52]'),\n",
       " Text(59.082352941176474, 122.31, 'X[3] <= 4.996\\ngini = 0.278\\nsamples = 6\\nvalue = [5, 0, 1]'),\n",
       " Text(39.38823529411765, 95.13, 'X[0] <= 11.95\\ngini = 0.5\\nsamples = 2\\nvalue = [1, 0, 1]'),\n",
       " Text(19.694117647058825, 67.94999999999999, 'gini = 0.0\\nsamples = 1\\nvalue = [1, 0, 0]'),\n",
       " Text(59.082352941176474, 67.94999999999999, 'gini = 0.0\\nsamples = 1\\nvalue = [0, 0, 1]'),\n",
       " Text(78.7764705882353, 95.13, 'gini = 0.0\\nsamples = 4\\nvalue = [4, 0, 0]'),\n",
       " Text(137.85882352941178, 122.31, 'X[5] <= 1.538\\ngini = 0.188\\nsamples = 57\\nvalue = [6, 0, 51]'),\n",
       " Text(118.16470588235295, 95.13, 'gini = 0.0\\nsamples = 2\\nvalue = [2, 0, 0]'),\n",
       " Text(157.5529411764706, 95.13, 'X[0] <= 12.71\\ngini = 0.135\\nsamples = 55\\nvalue = [4, 0, 51]'),\n",
       " Text(137.85882352941178, 67.94999999999999, 'gini = 0.0\\nsamples = 42\\nvalue = [0, 0, 42]'),\n",
       " Text(177.24705882352941, 67.94999999999999, 'X[5] <= 4.414\\ngini = 0.426\\nsamples = 13\\nvalue = [4, 0, 9]'),\n",
       " Text(157.5529411764706, 40.77000000000001, 'X[5] <= 3.1\\ngini = 0.32\\nsamples = 5\\nvalue = [4, 0, 1]'),\n",
       " Text(137.85882352941178, 13.590000000000003, 'gini = 0.0\\nsamples = 1\\nvalue = [0, 0, 1]'),\n",
       " Text(177.24705882352941, 13.590000000000003, 'gini = 0.0\\nsamples = 4\\nvalue = [4, 0, 0]'),\n",
       " Text(196.94117647058823, 40.77000000000001, 'gini = 0.0\\nsamples = 8\\nvalue = [0, 0, 8]'),\n",
       " Text(196.94117647058823, 149.49, 'X[4] <= 3.464\\ngini = 0.095\\nsamples = 40\\nvalue = [38, 2, 0]'),\n",
       " Text(177.24705882352941, 122.31, 'gini = 0.0\\nsamples = 34\\nvalue = [34, 0, 0]'),\n",
       " Text(216.63529411764708, 122.31, 'X[5] <= 3.146\\ngini = 0.444\\nsamples = 6\\nvalue = [4, 2, 0]'),\n",
       " Text(196.94117647058823, 95.13, 'gini = 0.0\\nsamples = 4\\nvalue = [4, 0, 0]'),\n",
       " Text(236.3294117647059, 95.13, 'gini = 0.0\\nsamples = 2\\nvalue = [0, 2, 0]'),\n",
       " Text(295.4117647058824, 176.67000000000002, 'X[5] <= 2.054\\ngini = 0.036\\nsamples = 54\\nvalue = [1, 53, 0]'),\n",
       " Text(275.71764705882356, 149.49, 'X[0] <= 17.59\\ngini = 0.278\\nsamples = 6\\nvalue = [1, 5, 0]'),\n",
       " Text(256.02352941176474, 122.31, 'gini = 0.0\\nsamples = 1\\nvalue = [1, 0, 0]'),\n",
       " Text(295.4117647058824, 122.31, 'gini = 0.0\\nsamples = 5\\nvalue = [0, 5, 0]'),\n",
       " Text(315.1058823529412, 149.49, 'gini = 0.0\\nsamples = 48\\nvalue = [0, 48, 0]')]"
      ]
     },
     "execution_count": 40,
     "metadata": {},
     "output_type": "execute_result"
    },
    {
     "data": {
      "image/png": "[encoded data removed]",
      "text/plain": [
       "<Figure size 432x288 with 1 Axes>"
      ]
     },
     "metadata": {
      "needs_background": "light"
     },
     "output_type": "display_data"
    }
   ],
   "source": [
    "tree.plot_tree(dTree)"
   ]
  },
  {
   "cell_type": "code",
   "execution_count": 41,
   "metadata": {},
   "outputs": [
    {
     "name": "stdout",
     "output_type": "stream",
     "text": [
      "Точность: 0.9245283018867925\n",
      "Точность: 0.919047619047619\n"
     ]
    }
   ],
   "source": [
    "# 5\n",
    "#получаем обучающую и тестовую (test_size 25%) выборку \n",
    "X_train, X_test, Y_train, Y_test = train_test_split(X, Y, test_size=0.25)\n",
    "#создаем классификатор\n",
    "dTree = DecisionTreeClassifier(splitter = 'random', max_depth = 5, min_samples_leaf=4, random_state = 5)\n",
    "#обучаем\n",
    "dTree.fit(X_train, Y_train)\n",
    "#предсказываем\n",
    "Y_pred=dTree.predict(X_test)\n",
    "Y1_pred = dTree.predict(X)\n",
    "print(\"Точность:\",metrics.accuracy_score(Y_test, Y_pred))\n",
    "print(\"Точность:\",metrics.accuracy_score(Y, Y1_pred))"
   ]
  },
  {
   "cell_type": "markdown",
   "metadata": {},
   "source": [
    "# Визуализация дерева"
   ]
  },
  {
   "cell_type": "code",
   "execution_count": 28,
   "metadata": {},
   "outputs": [
    {
     "data": {
      "text/plain": [
       "[Text(157.5529411764706, 199.32, 'X[1] <= 14.748\\ngini = 0.665\\nsamples = 157\\nvalue = [48, 56, 53]'),\n",
       " Text(78.7764705882353, 163.07999999999998, 'X[4] <= 3.102\\ngini = 0.491\\nsamples = 89\\nvalue = [35, 1, 53]'),\n",
       " Text(39.38823529411765, 126.83999999999999, 'X[5] <= 1.798\\ngini = 0.285\\nsamples = 58\\nvalue = [10, 0, 48]'),\n",
       " Text(19.694117647058825, 90.6, 'gini = 0.375\\nsamples = 4\\nvalue = [3, 0, 1]'),\n",
       " Text(59.082352941176474, 90.6, 'X[5] <= 3.367\\ngini = 0.226\\nsamples = 54\\nvalue = [7, 0, 47]'),\n",
       " Text(39.38823529411765, 54.359999999999985, 'gini = 0.49\\nsamples = 7\\nvalue = [4, 0, 3]'),\n",
       " Text(78.7764705882353, 54.359999999999985, 'X[0] <= 12.068\\ngini = 0.12\\nsamples = 47\\nvalue = [3, 0, 44]'),\n",
       " Text(59.082352941176474, 18.119999999999976, 'gini = 0.0\\nsamples = 28\\nvalue = [0, 0, 28]'),\n",
       " Text(98.47058823529412, 18.119999999999976, 'gini = 0.266\\nsamples = 19\\nvalue = [3, 0, 16]'),\n",
       " Text(118.16470588235295, 126.83999999999999, 'X[3] <= 5.208\\ngini = 0.323\\nsamples = 31\\nvalue = [25, 1, 5]'),\n",
       " Text(98.47058823529412, 90.6, 'gini = 0.49\\nsamples = 7\\nvalue = [4, 0, 3]'),\n",
       " Text(137.85882352941178, 90.6, 'X[3] <= 5.36\\ngini = 0.226\\nsamples = 24\\nvalue = [21, 1, 2]'),\n",
       " Text(118.16470588235295, 54.359999999999985, 'gini = 0.48\\nsamples = 5\\nvalue = [3, 0, 2]'),\n",
       " Text(157.5529411764706, 54.359999999999985, 'X[4] <= 3.326\\ngini = 0.1\\nsamples = 19\\nvalue = [18, 1, 0]'),\n",
       " Text(137.85882352941178, 18.119999999999976, 'gini = 0.0\\nsamples = 15\\nvalue = [15, 0, 0]'),\n",
       " Text(177.24705882352941, 18.119999999999976, 'gini = 0.375\\nsamples = 4\\nvalue = [3, 1, 0]'),\n",
       " Text(236.3294117647059, 163.07999999999998, 'X[0] <= 16.324\\ngini = 0.309\\nsamples = 68\\nvalue = [13, 55, 0]'),\n",
       " Text(196.94117647058823, 126.83999999999999, 'X[0] <= 15.432\\ngini = 0.469\\nsamples = 16\\nvalue = [10, 6, 0]'),\n",
       " Text(177.24705882352941, 90.6, 'gini = 0.278\\nsamples = 6\\nvalue = [5, 1, 0]'),\n",
       " Text(216.63529411764708, 90.6, 'X[2] <= 0.883\\ngini = 0.5\\nsamples = 10\\nvalue = [5, 5, 0]'),\n",
       " Text(196.94117647058823, 54.359999999999985, 'gini = 0.444\\nsamples = 6\\nvalue = [2, 4, 0]'),\n",
       " Text(236.3294117647059, 54.359999999999985, 'gini = 0.375\\nsamples = 4\\nvalue = [3, 1, 0]'),\n",
       " Text(275.71764705882356, 126.83999999999999, 'X[3] <= 5.897\\ngini = 0.109\\nsamples = 52\\nvalue = [3, 49, 0]'),\n",
       " Text(256.02352941176474, 90.6, 'gini = 0.408\\nsamples = 7\\nvalue = [2, 5, 0]'),\n",
       " Text(295.4117647058824, 90.6, 'X[1] <= 15.746\\ngini = 0.043\\nsamples = 45\\nvalue = [1, 44, 0]'),\n",
       " Text(275.71764705882356, 54.359999999999985, 'gini = 0.32\\nsamples = 5\\nvalue = [1, 4, 0]'),\n",
       " Text(315.1058823529412, 54.359999999999985, 'gini = 0.0\\nsamples = 40\\nvalue = [0, 40, 0]')]"
      ]
     },
     "execution_count": 28,
     "metadata": {},
     "output_type": "execute_result"
    },
    {
     "data": {
      "image/png": "[encoded data removed]",
      "text/plain": [
       "<Figure size 432x288 with 1 Axes>"
      ]
     },
     "metadata": {
      "needs_background": "light"
     },
     "output_type": "display_data"
    }
   ],
   "source": [
    "tree.plot_tree(dTree)"
   ]
  },
  {
   "cell_type": "code",
   "execution_count": null,
   "metadata": {},
   "outputs": [],
   "source": []
  }
 ],
 "metadata": {
  "kernelspec": {
   "display_name": "Python 3",
   "language": "python",
   "name": "python3"
  },
  "language_info": {
   "codemirror_mode": {
    "name": "ipython",
    "version": 3
   },
   "file_extension": ".py",
   "mimetype": "text/x-python",
   "name": "python",
   "nbconvert_exporter": "python",
   "pygments_lexer": "ipython3",
   "version": "3.8.5"
  }
 },
 "nbformat": 4,
 "nbformat_minor": 4
}
